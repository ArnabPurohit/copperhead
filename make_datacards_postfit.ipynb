{
 "cells": [
  {
   "cell_type": "code",
   "execution_count": 14,
   "metadata": {
    "collapsed": true
   },
   "outputs": [],
   "source": [
    "import json\n",
    "def get_rate(json_fn, proc_name, region):\n",
    "    with open(json_fn) as json_file:\n",
    "        data = json.load(json_file)\n",
    "        try:\n",
    "            rate = data[region][proc_name]\n",
    "        except:\n",
    "            return 0\n",
    "    return rate"
   ]
  },
  {
   "cell_type": "code",
   "execution_count": 21,
   "metadata": {
    "collapsed": true
   },
   "outputs": [],
   "source": [
    "year = '2018'\n",
    "\n",
    "suff = 'test'\n",
    "#bins = ['h_peak', 'h_sidebands', 'z_peak']\n",
    "bins = ['ch1', 'ch2_h_sidebands', 'ch2_z_peak']\n",
    "# suff = 'SR'\n",
    "# bins = ['h_peak']\n",
    "\n",
    "# suff = 'CR'\n",
    "# bins = ['h_sidebands', 'z_peak']\n",
    "\n",
    "\n",
    "\n",
    "ewk_name = {\n",
    "    '2016':'ewk_lljj_mll105_160_ptj0',\n",
    "    '2017':'ewk_lljj_mll105_160',\n",
    "    '2018':'ewk_lljj_mll105_160'\n",
    "}\n",
    "\n",
    "sig_proc = ['ggh_amcPS', 'vbf_powhegPS',]\n",
    "\n",
    "bkg_proc = {\n",
    "    'ch1':[ewk_name[year], 'dy_m105_160_amc', 'dy_m105_160_vbf_amc',\\\n",
    "            'ttjets_dl', \n",
    "            'st_tw_top',\\\n",
    "            'st_tw_antitop',\\\n",
    "            'ttw', 'ttz',\\\n",
    "           'ww_2l2nu', 'wz_2l2q',\\\n",
    "            'wz_1l1nu2q',\\\n",
    "            'wz_3lnu', 'www','wwz','wzz','zzz'\n",
    "           ],\n",
    "    'ch2_h_sidebands':[ewk_name[year], 'dy_m105_160_amc', 'dy_m105_160_vbf_amc',\\\n",
    "            'ttjets_dl', \n",
    "            'st_tw_top',\\\n",
    "            'st_tw_antitop',\\\n",
    "            'ttw', 'ttz',\\\n",
    "           'ww_2l2nu', 'wz_2l2q',\\\n",
    "            'wz_1l1nu2q',\\\n",
    "            'wz_3lnu', 'www','wwz','wzz','zzz'\n",
    "           ],\n",
    "    'ch2_z_peak':[\n",
    "            'ewk_lljj_mll50_mjj120', 'dy_0j', 'dy_1j', 'dy_2j',\\\n",
    "            'ttjets_dl', \n",
    "            'st_tw_top',\\\n",
    "            'st_tw_antitop',\\\n",
    "            'ttw', 'ttz',\\\n",
    "           'ww_2l2nu', 'wz_2l2q',\\\n",
    "            'wz_1l1nu2q',\\\n",
    "            'wz_3lnu', 'www','wwz','wzz','zzz'\n",
    "           ],\n",
    "}\n",
    "\n",
    "\n",
    "proc = {b:sig_proc+bkg_proc[b] for b in bins}\n",
    "\n",
    "rate_file = f'plots/postfit/norms_{year}.json'\n",
    "input_file = {b:f'shapes_{b}_{year}_CRfit.root' for b in bins}"
   ]
  },
  {
   "cell_type": "code",
   "execution_count": 22,
   "metadata": {},
   "outputs": [],
   "source": [
    "idx = []\n",
    "rate = []\n",
    "bin_names = []\n",
    "proc_names = []\n",
    "\n",
    "all_bins = []\n",
    "all_observations = []\n",
    "\n",
    "for bin_name in bins:\n",
    "    all_bins.append(bin_name)\n",
    "    all_observations.append(\"-1\")\n",
    "    for i, p in enumerate(proc[bin_name]):\n",
    "        if p in sig_proc:\n",
    "            idx.append(f\"{-i:<25}\")\n",
    "        else:\n",
    "            idx.append(f\"{i:<25}\")\n",
    "        proc_names.append(f\"{p:<25}\")\n",
    "        the_rate = get_rate(rate_file, p, bin_name)\n",
    "        rate.append(f\"{the_rate:<25}\")\n",
    "        bin_names.append(f\"{bin_name:<25}\")\n",
    "                \n",
    "    nproc = len(idx)\n",
    "    nchannels = 1\n",
    "\n",
    "\n",
    "all_bins_str = \"  \".join(all_bins)\n",
    "all_obs_str = \"  \".join(all_observations)\n",
    "bin_str = \"\".join(bin_names)\n",
    "proc_str = \"\".join(proc_names)\n",
    "idx_str = \"\".join(idx)\n",
    "rate_str = \"\".join(rate)\n",
    "\n",
    "datacard_name = f'plots/postfit/datacard_postfit_{suff}_{year}.txt'"
   ]
  },
  {
   "cell_type": "code",
   "execution_count": 23,
   "metadata": {
    "collapsed": true
   },
   "outputs": [],
   "source": [
    "datacard = open(datacard_name, 'w')\n",
    "datacard.write(f\"imax {len(bins)}\\n\")\n",
    "datacard.write(f\"jmax *\\n\")\n",
    "datacard.write(f\"kmax *\\n\")\n",
    "datacard.write(\"---------------\\n\")\n",
    "for bin_name in bins:\n",
    "    datacard.write(f\"shapes * {bin_name} {input_file[bin_name]} $PROCESS $PROCESS_$SYSTEMATIC\\n\")\n",
    "datacard.write(\"---------------\\n\")\n",
    "datacard.write(f\"bin             {all_bins_str}\\n\")\n",
    "datacard.write(f\"observation     {all_obs_str}\\n\")\n",
    "datacard.write(\"---------------\\n\")\n",
    "datacard.write(f\"{'bin':<40}       {bin_str}\\n\")\n",
    "datacard.write(f\"{'process':<40}       {proc_str}\\n\")\n",
    "datacard.write(f\"{'process':<40}       {idx_str}\\n\")\n",
    "datacard.write(f\"{'rate':<40}       {rate_str}\\n\")\n",
    "datacard.write(\"---------------\\n\")\n",
    "\n",
    "datacard.close()"
   ]
  },
  {
   "cell_type": "code",
   "execution_count": null,
   "metadata": {
    "collapsed": true
   },
   "outputs": [],
   "source": []
  },
  {
   "cell_type": "code",
   "execution_count": null,
   "metadata": {
    "collapsed": true
   },
   "outputs": [],
   "source": []
  }
 ],
 "metadata": {
  "kernelspec": {
   "display_name": "Python [default]",
   "language": "python",
   "name": "python3"
  },
  "language_info": {
   "codemirror_mode": {
    "name": "ipython",
    "version": 3
   },
   "file_extension": ".py",
   "mimetype": "text/x-python",
   "name": "python",
   "nbconvert_exporter": "python",
   "pygments_lexer": "ipython3",
   "version": "3.6.4"
  }
 },
 "nbformat": 4,
 "nbformat_minor": 2
}
