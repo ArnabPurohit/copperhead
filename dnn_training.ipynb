{
 "cells": [
  {
   "cell_type": "markdown",
   "metadata": {},
   "source": [
    "DNN training module for Hµµ analysis\n",
    "==="
   ]
  },
  {
   "cell_type": "code",
   "execution_count": null,
   "metadata": {},
   "outputs": [],
   "source": [
    "!mkdir output/trained_models/"
   ]
  },
  {
   "cell_type": "code",
   "execution_count": null,
   "metadata": {},
   "outputs": [],
   "source": [
    "def extract_unbinned_data(path, classes, the_channel):\n",
    "    proc_out = util.load(path)\n",
    "    unbin_keys = [k for k in list(proc_out.keys()) if 'unbin' in k]\n",
    "    \n",
    "    # Get list [var, smp, ch, reg] for every unbinned output accumulator\n",
    "    items = [[i.split('_unbin_')[0]]+\\\n",
    "                    [i.split('_unbin_')[1].split('_c_')[0]]+\\\n",
    "                    i.split('_unbin_')[1].split('_c_')[1].split('_r_') for i in unbin_keys]\n",
    "    variables = set()\n",
    "    samples = set()\n",
    "    regions = set()\n",
    "    channels = set()\n",
    "    for item in items:\n",
    "        variables.add(item[0])\n",
    "        samples.add(item[1])\n",
    "        channels.add(item[2])\n",
    "        regions.add(item[3])\n",
    "        \n",
    "    variables = list(variables)\n",
    "    dfs = {}\n",
    "    cls_idx = 0\n",
    "    for cls, smp_list in classes.items():\n",
    "        for s in smp_list:\n",
    "            for r in regions:\n",
    "                c = the_channel\n",
    "                lbl = f'{c}_channel_{s}_{r}'\n",
    "                dfs[lbl] = pd.DataFrame(columns=variables+['class','class_idx'])\n",
    "                for v in variables:\n",
    "                    dfs[lbl][v] = proc_out[f'{v}_unbin_{s}_c_{c}_r_{r}'].value\n",
    "                dfs[lbl]['class'] = cls\n",
    "                dfs[lbl]['class_idx'] = cls_idx\n",
    "                dfs[lbl] = dfs[lbl].iloc[0:3000]\n",
    "                print(lbl)\n",
    "        cls_idx += 1\n",
    "    return dfs\n",
    "\n",
    "def scale_data(inputs):\n",
    "    x_mean = np.mean(x_train[inputs].values,axis=0)\n",
    "    x_std = np.std(x_train[inputs].values,axis=0)\n",
    "    training_data = (x_train[inputs]-x_mean)/x_std\n",
    "    testing_data = (x_test[inputs]-x_mean)/x_std\n",
    "    np.save(\"output/trained_models/scalers\", [x_mean, x_std])\n",
    "    return training_data, testing_data\n"
   ]
  },
  {
   "cell_type": "code",
   "execution_count": null,
   "metadata": {},
   "outputs": [],
   "source": [
    "inputs_binary = {\n",
    "    'background': ['dy', 'ewk_lljj_mll50_mjj120', 'ttjets_dl'],\n",
    "    'signal': ['ggh_amcPS', 'vbf_amcPS'],\n",
    "}\n",
    "\n",
    "inputs_multi = {\n",
    "    'ggh': ['ggh_amcPS'],\n",
    "    'vbf': ['vbf_amcPS'],\n",
    "    'dy': ['dy'],\n",
    "    'ewk': ['ewk']\n",
    "}\n",
    "\n",
    "training_features = ['dimuon_mass', 'dimuon_pt', 'dimuon_eta', 'dimuon_dEta', 'mu1_pt', 'mu2_pt']"
   ]
  },
  {
   "cell_type": "code",
   "execution_count": null,
   "metadata": {},
   "outputs": [],
   "source": [
    "from coffea import util\n",
    "import numpy as np\n",
    "import pandas as pd\n",
    "from sklearn.model_selection import train_test_split\n",
    "\n",
    "load_path = 'output/test_dask.coffea'\n",
    "    \n",
    "classes = inputs_binary\n",
    "\n",
    "# TODO: parallelize loading\n",
    "df_dict = extract_unbinned_data(load_path, classes, 'vbf')\n",
    "\n",
    "df = pd.DataFrame()\n",
    "df = pd.concat(df_dict)\n",
    "\n",
    "x_train, x_test, y_train, y_test = train_test_split(df[training_features], df['class_idx'], train_size=0.6, shuffle=True)\n",
    "\n",
    "for i in range(len(classes)):\n",
    "    cls_name = list(classes.keys())[i]\n",
    "    train_evts = len(y_train[y_train==i])\n",
    "    print(f\"{train_evts} training events in class {cls_name}\")\n",
    "    \n",
    "# scale data\n",
    "x_train, x_test = scale_data(training_features)"
   ]
  },
  {
   "cell_type": "code",
   "execution_count": null,
   "metadata": {},
   "outputs": [],
   "source": [
    "from keras.models import Model\n",
    "from keras.layers import Dense, Activation, Input, Dropout, Concatenate, Lambda, BatchNormalization\n",
    "from keras import backend as K\n",
    "\n",
    "# load model\n",
    "input_dim = len(training_features)\n",
    "label = 'test'\n",
    "inputs = Input(shape=(input_dim,), name = label+'_input')\n",
    "x = Dense(100, name = label+'_layer_1', activation='tanh')(inputs)\n",
    "x = Dropout(0.2)(x)\n",
    "x = BatchNormalization()(x)\n",
    "x = Dense(100, name = label+'_layer_2', activation='tanh')(x)\n",
    "x = Dropout(0.2)(x)\n",
    "x = BatchNormalization()(x)\n",
    "x = Dense(100, name = label+'_layer_3', activation='tanh')(x)\n",
    "x = Dropout(0.2)(x)\n",
    "x = BatchNormalization()(x)\n",
    "outputs = Dense(1, name = label+'_output',  activation='sigmoid')(x)\n",
    "\n",
    "model = Model(inputs=inputs, outputs=outputs)\n",
    "model.compile(loss='binary_crossentropy', optimizer='adam', metrics=[\"accuracy\"])\n",
    "model.summary()"
   ]
  },
  {
   "cell_type": "code",
   "execution_count": null,
   "metadata": {},
   "outputs": [],
   "source": [
    "# train and save model\n",
    "history = model.fit(x_train, y_train, epochs=500, batch_size=2048, verbose=1,\n",
    "                                    validation_split=0.2, shuffle=True)\n",
    "model.save('output/trained_models/test.h5')"
   ]
  },
  {
   "cell_type": "code",
   "execution_count": null,
   "metadata": {},
   "outputs": [],
   "source": [
    "import matplotlib.pyplot as plt\n",
    "f, (ax1, ax2) = plt.subplots(1, 2, figsize=(15,5))\n",
    "\n",
    "ax1.plot(history.history['acc'])\n",
    "ax1.plot(history.history['val_acc'])\n",
    "ax1.set_title('model accuracy')\n",
    "ax1.set_ylabel('accuracy')\n",
    "ax1.set_xlabel('epoch')\n",
    "ax1.legend(['train', 'test'], loc='best')\n",
    "\n",
    "ax2.plot(history.history['loss'])\n",
    "ax2.plot(history.history['val_loss'])\n",
    "ax2.set_title('model loss')\n",
    "ax2.set_ylabel('loss')\n",
    "ax2.set_xlabel('epoch')\n",
    "ax2.legend(['train', 'test'], loc='best')\n",
    "\n",
    "f.subplots_adjust(wspace=0.3)"
   ]
  },
  {
   "cell_type": "code",
   "execution_count": null,
   "metadata": {},
   "outputs": [],
   "source": []
  }
 ],
 "metadata": {
  "kernelspec": {
   "display_name": "Python 3",
   "language": "python",
   "name": "python3"
  },
  "language_info": {
   "codemirror_mode": {
    "name": "ipython",
    "version": 3
   },
   "file_extension": ".py",
   "mimetype": "text/x-python",
   "name": "python",
   "nbconvert_exporter": "python",
   "pygments_lexer": "ipython3",
   "version": "3.6.5"
  }
 },
 "nbformat": 4,
 "nbformat_minor": 2
}
